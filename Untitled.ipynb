{
 "cells": [
  {
   "cell_type": "code",
   "execution_count": 29,
   "id": "d57c5d67-07a3-444c-a24c-2d0c181dcdba",
   "metadata": {},
   "outputs": [],
   "source": [
    "import numpy as np\n",
    "import pandas as pd\n",
    "import seaborn as sns\n",
    "import matplotlib.pyplot as plt\n",
    "import matplotlib.image as mpimg\n",
    "import os\n",
    "import cv2"
   ]
  },
  {
   "cell_type": "code",
   "execution_count": 2,
   "id": "aa106639-a838-4937-abcb-9e3725ac37c3",
   "metadata": {},
   "outputs": [],
   "source": [
    "X_train_BISLI = []\n",
    "y_train_BISLI = []\n",
    "\n",
    "for i in os.listdir('Melspectogram_split/train/BISLI/'):\n",
    "    try:\n",
    "        image = cv2.imread(f'Melspectogram_split/train/BISLI/{i}', cv2.IMREAD_GRAYSCALE)\n",
    "        image = cv2.resize(image, (250, 250))\n",
    "        image = image.reshape(250, 250, 1)\n",
    "        X_train_BISLI.append(image)\n",
    "        y_train_BISLI.append(0)\n",
    "    except:\n",
    "        continue\n",
    "X_train_BISLI = np.array(X_train_BISLI)\n",
    "y_train_BISLI = np.array(y_train_BISLI)"
   ]
  },
  {
   "cell_type": "code",
   "execution_count": 3,
   "id": "f3c7ef45-80f8-4caa-811d-43c029fc0697",
   "metadata": {},
   "outputs": [],
   "source": [
    "X_train_BOM = []\n",
    "y_train_BOM = []\n",
    "\n",
    "for i in os.listdir('Melspectogram_split/train/BOM/'):\n",
    "    try:\n",
    "        image = cv2.imread(f'Melspectogram_split/train/BOM/{i}', cv2.IMREAD_GRAYSCALE)\n",
    "        image = cv2.resize(image, (250, 250))\n",
    "        image = image.reshape(250, 250, 1)\n",
    "        X_train_BOM.append(image)\n",
    "        y_train_BOM.append(1)\n",
    "    except:\n",
    "        continue\n",
    "X_train_BOM = np.array(X_train_BOM)\n",
    "y_train_BOM = np.array(y_train_BOM)"
   ]
  },
  {
   "cell_type": "code",
   "execution_count": 4,
   "id": "5ad685f1-e05b-4383-8313-2c927b2dd268",
   "metadata": {},
   "outputs": [],
   "source": [
    "X_train_KSING_KYNTHEI = []\n",
    "y_train_KSING_KYNTHEI = []\n",
    "\n",
    "for i in os.listdir('Melspectogram_split/train/KSING KYNTHEI/'):\n",
    "    try:\n",
    "        image = cv2.imread(f'Melspectogram_split/train/KSING KYNTHEI/{i}', cv2.IMREAD_GRAYSCALE)\n",
    "        image = cv2.resize(image, (250, 250))\n",
    "        image = image.reshape(250, 250, 1)\n",
    "        X_train_KSING_KYNTHEI.append(image)\n",
    "        y_train_KSING_KYNTHEI.append(2)\n",
    "    except:\n",
    "        continue\n",
    "X_train_KSING_KYNTHEI = np.array(X_train_KSING_KYNTHEI)\n",
    "y_train_KSING_KYNTHEI = np.array(y_train_KSING_KYNTHEI)"
   ]
  },
  {
   "cell_type": "code",
   "execution_count": 5,
   "id": "0d8c468d-30c0-4ca1-b579-1b48fbc6183b",
   "metadata": {},
   "outputs": [],
   "source": [
    "X_train_KSING_SHYNRANG = []\n",
    "y_train_KSING_SHYNRANG = []\n",
    "\n",
    "for i in os.listdir('Melspectogram_split/train/KSING SHYNRANG/'):\n",
    "    try:\n",
    "        image = cv2.imread(f'Melspectogram_split/train/KSING SHYNRANG/{i}', cv2.IMREAD_GRAYSCALE)\n",
    "        image = cv2.resize(image, (250, 250))\n",
    "        image = image.reshape(250, 250, 1)\n",
    "        X_train_KSING_SHYNRANG.append(image)\n",
    "        y_train_KSING_SHYNRANG.append(3)\n",
    "    except:\n",
    "        continue\n",
    "X_train_KSING_SHYNRANG = np.array(X_train_KSING_SHYNRANG)\n",
    "y_train_KSING_SHYNRANG = np.array(y_train_KSING_SHYNRANG)"
   ]
  },
  {
   "cell_type": "code",
   "execution_count": 6,
   "id": "691c7981-277f-468b-bd10-4f5df0c399a6",
   "metadata": {},
   "outputs": [],
   "source": [
    "X_train_KYNSHAW = []\n",
    "y_train_KYNSHAW = []\n",
    "\n",
    "for i in os.listdir('Melspectogram_split/train/KYNSHAW/'):\n",
    "    try:\n",
    "        image = cv2.imread(f'Melspectogram_split/train/KYNSHAW/{i}', cv2.IMREAD_GRAYSCALE)\n",
    "        image = cv2.resize(image, (250, 250))\n",
    "        image = image.reshape(250, 250, 1)\n",
    "        X_train_KYNSHAW.append(image)\n",
    "        y_train_KYNSHAW.append(4)\n",
    "    except:\n",
    "        continue\n",
    "X_train_KYNSHAW = np.array(X_train_KYNSHAW)\n",
    "y_train_KYNSHAW = np.array(y_train_KYNSHAW)"
   ]
  },
  {
   "cell_type": "code",
   "execution_count": 7,
   "id": "831617bf-f51f-4fdc-8cd3-1e6b610e1f9d",
   "metadata": {},
   "outputs": [],
   "source": [
    "X_train_PDIAH = []\n",
    "y_train_PDIAH = []\n",
    "\n",
    "for i in os.listdir('Melspectogram_split/train/PDIAH/'):\n",
    "    try:\n",
    "        image = cv2.imread(f'Melspectogram_split/train/PDIAH/{i}', cv2.IMREAD_GRAYSCALE)\n",
    "        image = cv2.resize(image, (250, 250))\n",
    "        image = image.reshape(250, 250, 1)\n",
    "        X_train_PDIAH.append(image)\n",
    "        y_train_PDIAH.append(5)\n",
    "    except:\n",
    "        continue\n",
    "X_train_PDIAH = np.array(X_train_PDIAH)\n",
    "y_train_PDIAH = np.array(y_train_PDIAH)"
   ]
  },
  {
   "cell_type": "code",
   "execution_count": 8,
   "id": "27330f7b-a16e-4853-94d8-138c0d90a81d",
   "metadata": {},
   "outputs": [],
   "source": [
    "X_test_BISLI = []\n",
    "y_test_BISLI = []\n",
    "\n",
    "for i in os.listdir('Melspectogram_split/test/BISLI/'):\n",
    "    try:\n",
    "        image = cv2.imread(f'Melspectogram_split/test/BISLI/{i}', cv2.IMREAD_GRAYSCALE)\n",
    "        image = cv2.resize(image, (250, 250))\n",
    "        image = image.reshape(250, 250, 1)\n",
    "        X_test_BISLI.append(image)\n",
    "        y_test_BISLI.append(0)\n",
    "    except:\n",
    "        continue\n",
    "X_test_BISLI = np.array(X_test_BISLI)\n",
    "y_test_BISLI = np.array(y_test_BISLI)"
   ]
  },
  {
   "cell_type": "code",
   "execution_count": 9,
   "id": "426a53f4-9b8e-4d6d-a4dc-c1eda226a444",
   "metadata": {},
   "outputs": [],
   "source": [
    "X_test_BOM = []\n",
    "y_test_BOM = []\n",
    "\n",
    "for i in os.listdir('Melspectogram_split/test/BOM/'):\n",
    "    try:\n",
    "        image = cv2.imread(f'Melspectogram_split/test/BOM/{i}', cv2.IMREAD_GRAYSCALE)\n",
    "        image = cv2.resize(image, (250, 250))\n",
    "        image = image.reshape(250, 250, 1)\n",
    "        X_test_BOM.append(image)\n",
    "        y_test_BOM.append(1)\n",
    "    except:\n",
    "        continue\n",
    "X_test_BOM = np.array(X_test_BOM)\n",
    "y_test_BOM = np.array(y_test_BOM)"
   ]
  },
  {
   "cell_type": "code",
   "execution_count": 10,
   "id": "a0d813bb-2293-48f8-8bf5-0e29e48e9163",
   "metadata": {},
   "outputs": [],
   "source": [
    "X_test_KSING_KYNTHEI = []\n",
    "y_test_KSING_KYNTHEI = []\n",
    "\n",
    "for i in os.listdir('Melspectogram_split/test/KSING KYNTHEI/'):\n",
    "    try:\n",
    "        image = cv2.imread(f'Melspectogram_split/test/KSING KYNTHEI/{i}', cv2.IMREAD_GRAYSCALE)\n",
    "        image = cv2.resize(image, (250, 250))\n",
    "        image = image.reshape(250, 250, 1)\n",
    "        X_test_KSING_KYNTHEI.append(image)\n",
    "        y_test_KSING_KYNTHEI.append(2)\n",
    "    except:\n",
    "        continue\n",
    "X_test_KSING_KYNTHEI = np.array(X_test_KSING_KYNTHEI)\n",
    "y_test_KSING_KYNTHEI = np.array(y_test_KSING_KYNTHEI)"
   ]
  },
  {
   "cell_type": "code",
   "execution_count": 11,
   "id": "dde2fd3d-2cf8-4c88-b505-03e516a6d45c",
   "metadata": {},
   "outputs": [],
   "source": [
    "X_test_KSING_SHYNRANG = []\n",
    "y_test_KSING_SHYNRANG = []\n",
    "\n",
    "for i in os.listdir('Melspectogram_split/test/KSING SHYNRANG/'):\n",
    "    try:\n",
    "        image = cv2.imread(f'Melspectogram_split/test/KSING SHYNRANG/{i}', cv2.IMREAD_GRAYSCALE)\n",
    "        image = cv2.resize(image, (250, 250))\n",
    "        image = image.reshape(250, 250, 1)\n",
    "        X_test_KSING_SHYNRANG.append(image)\n",
    "        y_test_KSING_SHYNRANG.append(3)\n",
    "    except:\n",
    "        continue\n",
    "X_test_KSING_SHYNRANG = np.array(X_test_KSING_SHYNRANG)\n",
    "y_test_KSING_SHYNRANG = np.array(y_test_KSING_SHYNRANG)"
   ]
  },
  {
   "cell_type": "code",
   "execution_count": 12,
   "id": "cc9a7327-8027-4696-ad3f-1db628fdcd08",
   "metadata": {},
   "outputs": [],
   "source": [
    "X_test_KYNSHAW = []\n",
    "y_test_KYNSHAW = []\n",
    "\n",
    "for i in os.listdir('Melspectogram_split/test/KYNSHAW/'):\n",
    "    try:\n",
    "        image = cv2.imread(f'Melspectogram_split/test/KYNSHAW/{i}', cv2.IMREAD_GRAYSCALE)\n",
    "        image = cv2.resize(image, (250, 250))\n",
    "        image = image.reshape(250, 250, 1)\n",
    "        X_test_KYNSHAW.append(image)\n",
    "        y_test_KYNSHAW.append(4)\n",
    "    except:\n",
    "        continue\n",
    "X_test_KYNSHAW = np.array(X_test_KYNSHAW)\n",
    "y_test_KYNSHAW = np.array(y_test_KYNSHAW)"
   ]
  },
  {
   "cell_type": "code",
   "execution_count": 13,
   "id": "f0261c1b-42ac-42bd-8a88-3596d30cdc38",
   "metadata": {},
   "outputs": [],
   "source": [
    "X_test_PDIAH = []\n",
    "y_test_PDIAH = []\n",
    "\n",
    "for i in os.listdir('Melspectogram_split/test/PDIAH/'):\n",
    "    try:\n",
    "        image = cv2.imread(f'Melspectogram_split/test/PDIAH/{i}', cv2.IMREAD_GRAYSCALE)\n",
    "        image = cv2.resize(image, (250, 250))\n",
    "        image = image.reshape(250, 250, 1)\n",
    "        X_test_PDIAH.append(image)\n",
    "        y_test_PDIAH.append(5)\n",
    "    except:\n",
    "        continue\n",
    "X_test_PDIAH = np.array(X_test_PDIAH)\n",
    "y_test_PDIAH = np.array(y_test_PDIAH)"
   ]
  },
  {
   "cell_type": "code",
   "execution_count": 14,
   "id": "21e27874-9cc9-4d14-bd8b-7426657fcefb",
   "metadata": {},
   "outputs": [],
   "source": [
    "X_val_BISLI = []\n",
    "y_val_BISLI = []\n",
    "\n",
    "for i in os.listdir('Melspectogram_split/val/BISLI/'):\n",
    "    try:\n",
    "        image = cv2.imread(f'Melspectogram_split/val/BISLI/{i}', cv2.IMREAD_GRAYSCALE)\n",
    "        image = cv2.resize(image, (250, 250))\n",
    "        image = image.reshape(250, 250, 1)\n",
    "        X_val_BISLI.append(image)\n",
    "        y_val_BISLI.append(0)\n",
    "    except:\n",
    "        continue\n",
    "X_val_BISLI = np.array(X_val_BISLI)\n",
    "y_val_BISLI = np.array(y_val_BISLI)"
   ]
  },
  {
   "cell_type": "code",
   "execution_count": 15,
   "id": "820614d3-c244-474b-8217-78aabf4de5c3",
   "metadata": {},
   "outputs": [],
   "source": [
    "X_val_BOM = []\n",
    "y_val_BOM = []\n",
    "\n",
    "for i in os.listdir('Melspectogram_split/val/BOM/'):\n",
    "    try:\n",
    "        image = cv2.imread(f'Melspectogram_split/val/BOM/{i}', cv2.IMREAD_GRAYSCALE)\n",
    "        image = cv2.resize(image, (250, 250))\n",
    "        image = image.reshape(250, 250, 1)\n",
    "        X_val_BOM.append(image)\n",
    "        y_val_BOM.append(1)\n",
    "    except:\n",
    "        continue\n",
    "X_val_BOM = np.array(X_val_BOM)\n",
    "y_val_BOM = np.array(y_val_BOM)"
   ]
  },
  {
   "cell_type": "code",
   "execution_count": 16,
   "id": "21e13af8-61b3-4d81-a6b1-bf78472f23f5",
   "metadata": {},
   "outputs": [],
   "source": [
    "X_val_KSING_KYNTHEI = []\n",
    "y_val_KSING_KYNTHEI = []\n",
    "\n",
    "for i in os.listdir('Melspectogram_split/val/KSING KYNTHEI/'):\n",
    "    try:\n",
    "        image = cv2.imread(f'Melspectogram_split/val/KSING KYNTHEI/{i}', cv2.IMREAD_GRAYSCALE)\n",
    "        image = cv2.resize(image, (250, 250))\n",
    "        image = image.reshape(250, 250, 1)\n",
    "        X_val_KSING_KYNTHEI.append(image)\n",
    "        y_val_KSING_KYNTHEI.append(2)\n",
    "    except:\n",
    "        continue\n",
    "X_val_KSING_KYNTHEI = np.array(X_val_KSING_KYNTHEI)\n",
    "y_val_KSING_KYNTHEI = np.array(y_val_KSING_KYNTHEI)"
   ]
  },
  {
   "cell_type": "code",
   "execution_count": 17,
   "id": "979b9802-18e6-481a-a4ea-7b92c2610b6a",
   "metadata": {},
   "outputs": [],
   "source": [
    "X_val_KSING_SHYNRANG = []\n",
    "y_val_KSING_SHYNRANG = []\n",
    "\n",
    "for i in os.listdir('Melspectogram_split/val/KSING SHYNRANG/'):\n",
    "    try:\n",
    "        image = cv2.imread(f'Melspectogram_split/val/KSING SHYNRANG/{i}', cv2.IMREAD_GRAYSCALE)\n",
    "        image = cv2.resize(image, (250, 250))\n",
    "        image = image.reshape(250, 250, 1)\n",
    "        X_val_KSING_SHYNRANG.append(image)\n",
    "        y_val_KSING_SHYNRANG.append(3)\n",
    "    except:\n",
    "        continue\n",
    "X_val_KSING_SHYNRANG = np.array(X_val_KSING_SHYNRANG)\n",
    "y_val_KSING_SHYNRANG = np.array(y_val_KSING_SHYNRANG)"
   ]
  },
  {
   "cell_type": "code",
   "execution_count": 18,
   "id": "a3f88098-9679-4298-86f4-5d72060c1dcc",
   "metadata": {},
   "outputs": [],
   "source": [
    "X_val_KYNSHAW = []\n",
    "y_val_KYNSHAW = []\n",
    "\n",
    "for i in os.listdir('Melspectogram_split/val/KYNSHAW/'):\n",
    "    try:\n",
    "        image = cv2.imread(f'Melspectogram_split/val/KYNSHAW/{i}', cv2.IMREAD_GRAYSCALE)\n",
    "        image = cv2.resize(image, (250, 250))\n",
    "        image = image.reshape(250, 250, 1)\n",
    "        X_val_KYNSHAW.append(image)\n",
    "        y_val_KYNSHAW.append(4)\n",
    "    except:\n",
    "        continue\n",
    "X_val_KYNSHAW = np.array(X_val_KYNSHAW)\n",
    "y_val_KYNSHAW = np.array(y_val_KYNSHAW)"
   ]
  },
  {
   "cell_type": "code",
   "execution_count": 19,
   "id": "9e95d336-615b-4bcb-8aac-f0f195deee24",
   "metadata": {},
   "outputs": [],
   "source": [
    "X_val_PDIAH = []\n",
    "y_val_PDIAH = []\n",
    "\n",
    "for i in os.listdir('Melspectogram_split/val/PDIAH/'):\n",
    "    try:\n",
    "        image = cv2.imread(f'Melspectogram_split/val/PDIAH/{i}', cv2.IMREAD_GRAYSCALE)\n",
    "        image = cv2.resize(image, (250, 250))\n",
    "        image = image.reshape(250, 250, 1)\n",
    "        X_val_PDIAH.append(image)\n",
    "        y_val_PDIAH.append(5)\n",
    "    except:\n",
    "        continue\n",
    "X_val_PDIAH = np.array(X_val_PDIAH)\n",
    "y_val_PDIAH = np.array(y_val_PDIAH)"
   ]
  },
  {
   "cell_type": "code",
   "execution_count": 20,
   "id": "8269d589-b1b1-4d74-98b3-c11672dee282",
   "metadata": {},
   "outputs": [],
   "source": [
    "y_val = np.concatenate((y_val_BISLI,y_val_BOM,y_val_KSING_KYNTHEI,y_val_KSING_SHYNRANG,y_val_KYNSHAW,y_val_PDIAH))\n",
    "y_train = np.concatenate((y_train_BISLI,y_train_BOM,y_train_KSING_KYNTHEI,y_train_KSING_SHYNRANG,y_train_KYNSHAW,y_train_PDIAH))\n",
    "X_val = np.concatenate((X_val_BISLI,X_val_BOM,X_val_KSING_KYNTHEI,X_val_KSING_SHYNRANG,X_val_KYNSHAW,X_val_PDIAH))\n",
    "X_train = np.concatenate((X_train_BISLI,X_train_BOM,X_train_KSING_KYNTHEI,X_train_KSING_SHYNRANG,X_train_KYNSHAW,X_train_PDIAH))"
   ]
  },
  {
   "cell_type": "code",
   "execution_count": 21,
   "id": "a4a69066-d98a-465a-a59e-660d094be11b",
   "metadata": {},
   "outputs": [],
   "source": [
    "from keras.utils import to_categorical"
   ]
  },
  {
   "cell_type": "code",
   "execution_count": 22,
   "id": "e5f6ee8c-e639-4c36-9781-3d579028957e",
   "metadata": {},
   "outputs": [],
   "source": [
    "y_val = to_categorical(y_val,num_classes=6)\n",
    "y_train = to_categorical(y_train,num_classes=6)"
   ]
  },
  {
   "cell_type": "code",
   "execution_count": 23,
   "id": "3f771701-45b7-4248-b73e-41b8cc7144d2",
   "metadata": {},
   "outputs": [],
   "source": [
    "from keras import Sequential"
   ]
  },
  {
   "cell_type": "code",
   "execution_count": 24,
   "id": "13ea2df0-49f1-4a62-95da-f098d37c27ef",
   "metadata": {},
   "outputs": [],
   "source": [
    "from keras.layers import Conv2D, MaxPooling2D, Flatten, Dense, Dropout"
   ]
  },
  {
   "cell_type": "code",
   "execution_count": 25,
   "id": "1e3aaecd-826b-4cc7-b842-e17bfaf49936",
   "metadata": {},
   "outputs": [
    {
     "name": "stderr",
     "output_type": "stream",
     "text": [
      "C:\\Users\\Boris\\AppData\\Local\\Programs\\Python\\Python310\\lib\\site-packages\\keras\\src\\layers\\convolutional\\base_conv.py:107: UserWarning: Do not pass an `input_shape`/`input_dim` argument to a layer. When using Sequential models, prefer using an `Input(shape)` object as the first layer in the model instead.\n",
      "  super().__init__(activity_regularizer=activity_regularizer, **kwargs)\n"
     ]
    }
   ],
   "source": [
    "model = Sequential()\n",
    "\n",
    "model.add(Conv2D(filters=64, kernel_size=(3, 3), padding='same', activation='relu', input_shape=(250, 250, 1)))\n",
    "model.add(MaxPooling2D(pool_size=(2, 2)))\n",
    "\n",
    "model.add(Conv2D(filters=64, kernel_size=(3, 3), padding='same', activation='relu'))\n",
    "model.add(MaxPooling2D(pool_size=(2, 2)))\n",
    "\n",
    "model.add(Flatten())\n",
    "\n",
    "\n",
    "model.add(Dense(32, activation='relu'))\n",
    "model.add(Dense(16, activation='relu'))\n",
    "model.add(Dense(8, activation='relu'))\n",
    "model.add(Dense(6, activation='softmax'))"
   ]
  },
  {
   "cell_type": "code",
   "execution_count": 26,
   "id": "f8f73383-4595-4c75-86a2-09ea2dc19c26",
   "metadata": {},
   "outputs": [],
   "source": [
    "model.compile(optimizer='adam', loss='categorical_crossentropy', metrics=['accuracy'])"
   ]
  },
  {
   "cell_type": "code",
   "execution_count": 27,
   "id": "628e7729-8677-4b62-945e-a5a577c4c2d7",
   "metadata": {},
   "outputs": [
    {
     "name": "stdout",
     "output_type": "stream",
     "text": [
      "Epoch 1/10\n",
      "\u001b[1m71/71\u001b[0m \u001b[32m━━━━━━━━━━━━━━━━━━━━\u001b[0m\u001b[37m\u001b[0m \u001b[1m34s\u001b[0m 461ms/step - accuracy: 0.4113 - loss: 17.3790 - val_accuracy: 0.8083 - val_loss: 0.4188\n",
      "Epoch 2/10\n",
      "\u001b[1m71/71\u001b[0m \u001b[32m━━━━━━━━━━━━━━━━━━━━\u001b[0m\u001b[37m\u001b[0m \u001b[1m33s\u001b[0m 471ms/step - accuracy: 0.8113 - loss: 0.3604 - val_accuracy: 0.8400 - val_loss: 0.2118\n",
      "Epoch 3/10\n",
      "\u001b[1m71/71\u001b[0m \u001b[32m━━━━━━━━━━━━━━━━━━━━\u001b[0m\u001b[37m\u001b[0m \u001b[1m34s\u001b[0m 483ms/step - accuracy: 0.8353 - loss: 0.1900 - val_accuracy: 0.8533 - val_loss: 0.1417\n",
      "Epoch 4/10\n",
      "\u001b[1m71/71\u001b[0m \u001b[32m━━━━━━━━━━━━━━━━━━━━\u001b[0m\u001b[37m\u001b[0m \u001b[1m35s\u001b[0m 486ms/step - accuracy: 0.9345 - loss: 0.1179 - val_accuracy: 0.9983 - val_loss: 0.0858\n",
      "Epoch 5/10\n",
      "\u001b[1m71/71\u001b[0m \u001b[32m━━━━━━━━━━━━━━━━━━━━\u001b[0m\u001b[37m\u001b[0m \u001b[1m35s\u001b[0m 487ms/step - accuracy: 0.9892 - loss: 0.0800 - val_accuracy: 0.9967 - val_loss: 0.0268\n",
      "Epoch 6/10\n",
      "\u001b[1m71/71\u001b[0m \u001b[32m━━━━━━━━━━━━━━━━━━━━\u001b[0m\u001b[37m\u001b[0m \u001b[1m35s\u001b[0m 488ms/step - accuracy: 0.9985 - loss: 0.0350 - val_accuracy: 0.9933 - val_loss: 0.0831\n",
      "Epoch 7/10\n",
      "\u001b[1m71/71\u001b[0m \u001b[32m━━━━━━━━━━━━━━━━━━━━\u001b[0m\u001b[37m\u001b[0m \u001b[1m36s\u001b[0m 502ms/step - accuracy: 0.9977 - loss: 0.0129 - val_accuracy: 0.9983 - val_loss: 0.0086\n",
      "Epoch 8/10\n",
      "\u001b[1m71/71\u001b[0m \u001b[32m━━━━━━━━━━━━━━━━━━━━\u001b[0m\u001b[37m\u001b[0m \u001b[1m35s\u001b[0m 499ms/step - accuracy: 0.9989 - loss: 0.0050 - val_accuracy: 0.9983 - val_loss: 0.0515\n",
      "Epoch 9/10\n",
      "\u001b[1m71/71\u001b[0m \u001b[32m━━━━━━━━━━━━━━━━━━━━\u001b[0m\u001b[37m\u001b[0m \u001b[1m35s\u001b[0m 494ms/step - accuracy: 0.9979 - loss: 0.0198 - val_accuracy: 0.9983 - val_loss: 0.0087\n",
      "Epoch 10/10\n",
      "\u001b[1m71/71\u001b[0m \u001b[32m━━━━━━━━━━━━━━━━━━━━\u001b[0m\u001b[37m\u001b[0m \u001b[1m36s\u001b[0m 512ms/step - accuracy: 0.9995 - loss: 0.0028 - val_accuracy: 0.9983 - val_loss: 0.0066\n"
     ]
    },
    {
     "data": {
      "text/plain": [
       "<keras.src.callbacks.history.History at 0x2820b5a70a0>"
      ]
     },
     "execution_count": 27,
     "metadata": {},
     "output_type": "execute_result"
    }
   ],
   "source": [
    "model.fit(X_train, y_train,validation_data=(X_val,y_val), epochs=10)"
   ]
  },
  {
   "cell_type": "code",
   "execution_count": 30,
   "id": "d65ba353-1f16-4741-9976-f2a507b35151",
   "metadata": {},
   "outputs": [
    {
     "data": {
      "text/plain": [
       "[<matplotlib.lines.Line2D at 0x282150ac520>]"
      ]
     },
     "execution_count": 30,
     "metadata": {},
     "output_type": "execute_result"
    },
    {
     "data": {
      "image/png": "[encoded data removed]",
      "text/plain": [
       "<Figure size 640x480 with 1 Axes>"
      ]
     },
     "metadata": {},
     "output_type": "display_data"
    }
   ],
   "source": [
    "plt.plot(model.history.history['loss'])\n",
    "plt.plot(model.history.history['val_loss'])"
   ]
  },
  {
   "cell_type": "code",
   "execution_count": null,
   "id": "deb17479-5d0b-4b48-953d-36ae931324d1",
   "metadata": {},
   "outputs": [],
   "source": []
  }
 ],
 "metadata": {
  "kernelspec": {
   "display_name": "Python 3 (ipykernel)",
   "language": "python",
   "name": "python3"
  },
  "language_info": {
   "codemirror_mode": {
    "name": "ipython",
    "version": 3
   },
   "file_extension": ".py",
   "mimetype": "text/x-python",
   "name": "python",
   "nbconvert_exporter": "python",
   "pygments_lexer": "ipython3",
   "version": "3.10.3"
  }
 },
 "nbformat": 4,
 "nbformat_minor": 5
}
